{
 "cells": [
  {
   "cell_type": "code",
   "execution_count": null,
   "id": "98d360ee",
   "metadata": {},
   "outputs": [],
   "source": [
    "!pip install requests\n",
    "!pip install bs4"
   ]
  },
  {
   "cell_type": "code",
   "execution_count": 1,
   "id": "38423b82",
   "metadata": {},
   "outputs": [],
   "source": [
    "import requests\n",
    "from bs4 import BeautifulSoup\n",
    "import csv\n",
    "import time"
   ]
  },
  {
   "cell_type": "code",
   "execution_count": 2,
   "id": "c9bf8c57",
   "metadata": {},
   "outputs": [],
   "source": [
    "url = \"https://www.postjobfree.com/resumes?q=&n=&t=python+developer&d=&l=United+States&radius=25&r=100\""
   ]
  },
  {
   "cell_type": "code",
   "execution_count": 3,
   "id": "18c0d6cd",
   "metadata": {},
   "outputs": [],
   "source": [
    "response = requests.get(url)\n",
    "soup = BeautifulSoup(response.content, 'html.parser')"
   ]
  },
  {
   "cell_type": "code",
   "execution_count": 4,
   "id": "d547be5e",
   "metadata": {},
   "outputs": [],
   "source": [
    "title_tags = soup.find_all('h3', attrs={'class': 'itemTitle'})"
   ]
  },
  {
   "cell_type": "code",
   "execution_count": null,
   "id": "ecda7358",
   "metadata": {},
   "outputs": [
    {
     "name": "stdout",
     "output_type": "stream",
     "text": [
      "200 https://www.postjobfree.com/resume/adu9gv/python-developer-pflugerville-tx\n",
      "200 https://www.postjobfree.com/resume/adu7vy/mechanical-designer-python-austin-tx\n",
      "200 https://www.postjobfree.com/resume/adu69o/python-developer-logistics-sacramento-ca\n",
      "200 https://www.postjobfree.com/resume/adu6dm/python-developer-lewisville-tx\n",
      "200 https://www.postjobfree.com/resume/adu591/python-developer-boulder-co-80302\n",
      "200 https://www.postjobfree.com/resume/adu01r/python-developer-united-states\n",
      "200 https://www.postjobfree.com/resume/aduxib/python-developer-alpharetta-ga\n",
      "200 https://www.postjobfree.com/resume/aduwx6/python-developer-software-fremont-ca\n",
      "200 https://www.postjobfree.com/resume/adutjx/java-python-developer-seattle-wa\n",
      "200 https://www.postjobfree.com/resume/adusrj/data-analyst-python-takoma-park-md\n",
      "200 https://www.postjobfree.com/resume/aduo24/python-developer-network-harrisburg-pa\n",
      "200 https://www.postjobfree.com/resume/adughu/python-developer-learning-springfield-il\n",
      "200 https://www.postjobfree.com/resume/adudb6/python-developer-software-irving-tx\n",
      "200 https://www.postjobfree.com/resume/adtw7s/python-developer-software-texas-city-tx\n",
      "200 https://www.postjobfree.com/resume/adtvdq/python-developer-service-california-city\n",
      "200 https://www.postjobfree.com/resume/adtt7r/python-developer-software-san-jose-ca\n",
      "200 https://www.postjobfree.com/resume/adthhd/data-entry-python-plainfield-il\n",
      "200 https://www.postjobfree.com/resume/adte1y/python-developer-the-colony-tx\n",
      "200 https://www.postjobfree.com/resume/adtbc0/python-developer-wichita-ks\n",
      "200 https://www.postjobfree.com/resume/ads0js/neeraj-adhikari-python-albuquerque-nm\n",
      "200 https://www.postjobfree.com/resume/adsx7u/python-developer-newark-nj\n",
      "200 https://www.postjobfree.com/resume/adswic/python-developer-deployment-bedford-oh\n",
      "200 https://www.postjobfree.com/resume/adsr3h/python-developer-united-states\n",
      "200 https://www.postjobfree.com/resume/adsm94/python-developer-united-states\n",
      "200 https://www.postjobfree.com/resume/adsa1r/python-developer-data-newark-de\n",
      "200 https://www.postjobfree.com/resume/adsadw/python-developer-united-states\n",
      "200 https://www.postjobfree.com/resume/adr0al/python-developer-united-states-ny\n",
      "200 https://www.postjobfree.com/resume/adrztb/python-aws-developer-sunnyvale-ca\n",
      "200 https://www.postjobfree.com/resume/adryrh/python-developer-machine-garland-tx\n",
      "200 https://www.postjobfree.com/resume/adrvms/python-developer-united-states\n",
      "200 https://www.postjobfree.com/resume/adq8qg/python-developer-flutter-richmond-tx\n",
      "200 https://www.postjobfree.com/resume/adqzjs/python-developer-business-united-states\n",
      "200 https://www.postjobfree.com/resume/adqy5s/python-developer-united-states\n",
      "200 https://www.postjobfree.com/resume/ado6fd/python-aws-developer-coppell-tx\n",
      "200 https://www.postjobfree.com/resume/ado5l0/python-developer-denver-co\n",
      "200 https://www.postjobfree.com/resume/ado4oc/python-developer-united-states\n",
      "200 https://www.postjobfree.com/resume/adny1z/python-developer-united-states\n",
      "200 https://www.postjobfree.com/resume/adnctb/python-developer-network-brooklyn-ny\n",
      "200 https://www.postjobfree.com/resume/adnbzu/python-developer-panda-binghamton-ny\n",
      "200 https://www.postjobfree.com/resume/adnblp/python-developer-east-st-louis-il\n",
      "200 https://www.postjobfree.com/resume/adnanb/python-developer-university-arlington-tx\n",
      "200 https://www.postjobfree.com/resume/adm9zq/python-developer-data-analyst-conroe-tx\n",
      "200 https://www.postjobfree.com/resume/admygo/python-developer-software-boston-ma\n",
      "200 https://www.postjobfree.com/resume/admsu9/jr-python-developer-manhattan-ny\n",
      "200 https://www.postjobfree.com/resume/adlt8r/python-developer-cumming-ga\n",
      "200 https://www.postjobfree.com/resume/adlltx/python-web-developer-binghamton-ny\n",
      "200 https://www.postjobfree.com/resume/adllrc/python-software-ellicott-city-md\n",
      "200 https://www.postjobfree.com/resume/adle1r/python-developer-columbus-oh\n",
      "200 https://www.postjobfree.com/resume/adldv6/python-software-developer-chandler-az\n",
      "200 https://www.postjobfree.com/resume/adk7el/web-developer-python-saint-paul-mn\n",
      "200 https://www.postjobfree.com/resume/adk5om/software-developer-java-python-kearny-nj\n",
      "200 https://www.postjobfree.com/resume/adk5mz/software-developer-python-texas-city-tx\n",
      "200 https://www.postjobfree.com/resume/adk1lo/python-developer-seattle-wa\n",
      "200 https://www.postjobfree.com/resume/adkxsk/python-developer-phoenix-az\n",
      "200 https://www.postjobfree.com/resume/adkvd2/python-developer-columbus-oh\n",
      "200 https://www.postjobfree.com/resume/adkvcp/python-developer-skokie-il\n",
      "200 https://www.postjobfree.com/resume/adkraf/developer-python-charlotte-nc\n",
      "200 https://www.postjobfree.com/resume/adkqqg/software-developer-java-c-alexandria-va\n",
      "200 https://www.postjobfree.com/resume/adkoxe/python-software-developer-los-angeles-ca\n",
      "200 https://www.postjobfree.com/resume/adkn31/developer-python-buffalo-ny\n",
      "200 https://www.postjobfree.com/resume/adkieo/web-developer-python-charlotte-nc\n",
      "200 https://www.postjobfree.com/resume/adkfk6/python-developer-charlotte-nc\n",
      "200 https://www.postjobfree.com/resume/adj0x1/python-developer-united-states\n",
      "200 https://www.postjobfree.com/resume/adjzci/web-developer-python-chicago-il\n",
      "200 https://www.postjobfree.com/resume/adjtm2/software-developer-python-irvine-ca\n",
      "200 https://www.postjobfree.com/resume/adjr9s/python-software-developer-austin-tx\n",
      "200 https://www.postjobfree.com/resume/adjq4z/web-developer-python-leander-tx\n",
      "200 https://www.postjobfree.com/resume/adjmdp/python-software-developer-richardson-tx\n",
      "200 https://www.postjobfree.com/resume/adjl4f/python-software-developer-fairfax-va\n",
      "200 https://www.postjobfree.com/resume/adjltb/software-developer-python-apex-nc\n",
      "200 https://www.postjobfree.com/resume/adjis4/web-developer-python-framingham-ma\n",
      "200 https://www.postjobfree.com/resume/adjhu5/python-developer-ridgefield-park\n",
      "200 https://www.postjobfree.com/resume/adjfnc/full-stack-python-developer-brooklyn-ny\n",
      "200 https://www.postjobfree.com/resume/adjese/python-developer-paterson-nj\n",
      "200 https://www.postjobfree.com/resume/adi5wv/developer-python-gainesville-fl\n",
      "200 https://www.postjobfree.com/resume/adivoj/python-developer-machine-nlp-dayton-oh\n",
      "200 https://www.postjobfree.com/resume/adiu6y/python-software-delray-beach-fl\n",
      "200 https://www.postjobfree.com/resume/adisyk/data-analyst-engineer-python-houston-tx\n",
      "200 https://www.postjobfree.com/resume/adiq9j/software-developer-python-willimantic-ct\n",
      "200 https://www.postjobfree.com/resume/adiov9/python-developer-tempe-az\n",
      "200 https://www.postjobfree.com/resume/adin4z/software-developer-python-newark-nj\n",
      "200 https://www.postjobfree.com/resume/adijzq/software-developer-python-united-states\n"
     ]
    }
   ],
   "source": [
    "links = [\"https://www.postjobfree.com\" + title_tag.a['href'] for title_tag in title_tags]\n",
    "results = []\n",
    "for link in links:\n",
    "    res = requests.get(link)\n",
    "    print(res.status_code, link)\n",
    "    content = BeautifulSoup(res.content, 'html.parser')\n",
    "    results.append({\n",
    "        'job_title': content.find('div', attrs={'class': 'leftColumn'}).find('h1').get_text(),\n",
    "        'resume': content.find('div', attrs={'class': 'normalText'}).get_text()[:-23]\n",
    "    })\n",
    "    time.sleep(3)\n",
    "with open('resumes.csv', 'w') as csv_file:\n",
    "    writer = csv.DictWriter(csv_file, fieldnames=results[0].keys())\n",
    "    writer.writeheader()\n",
    "    for row in results:\n",
    "        writer.writerow(row)"
   ]
  },
  {
   "cell_type": "code",
   "execution_count": null,
   "id": "64bacfa7",
   "metadata": {},
   "outputs": [],
   "source": []
  }
 ],
 "metadata": {
  "kernelspec": {
   "display_name": "Python 3 (ipykernel)",
   "language": "python",
   "name": "python3"
  },
  "language_info": {
   "codemirror_mode": {
    "name": "ipython",
    "version": 3
   },
   "file_extension": ".py",
   "mimetype": "text/x-python",
   "name": "python",
   "nbconvert_exporter": "python",
   "pygments_lexer": "ipython3",
   "version": "3.9.12"
  }
 },
 "nbformat": 4,
 "nbformat_minor": 5
}
